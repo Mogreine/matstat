{
 "cells": [
  {
   "cell_type": "markdown",
   "metadata": {},
   "source": [
    "# Домашняя работа #2\n",
    "Построим двумя способами доверительные интервалы для дисперсии нормального распределения, когда математиеское ожидание известно (будем считать, что оно равно нулю)\n",
    "\n",
    "С помощью статистики $\\sum{\\frac{X_k^2}{n}}$ получаем интервал:\n",
    "$$\n",
    "(\\frac{\\sum X_k^2}{\\lambda_{(1+\\gamma)/2}}, \\frac{\\sum X_k^2}{\\lambda_{(1-\\gamma)/2}})\n",
    "$$\n",
    "\n",
    "где $\\lambda_p$ - квантиль порядка $p$ распределения хи-квадрат с $n$ степенями свободы.\n",
    "\n",
    "С помощью статистики $(\\sum{\\frac{X_k}{n}})^2$ получаем интервал:\n",
    "$$\n",
    "(\\frac{n\\overline X_k^2}{z_{(3+\\gamma)/4}^2}, \\frac{n\\overline X_k^2}{z_{(3+\\gamma)/4}^2})\n",
    "$$\n",
    "\n",
    "где $z_p$ - квантиль порядка $p$ стандартного нормального распределения."
   ]
  },
  {
   "cell_type": "code",
   "execution_count": null,
   "metadata": {},
   "outputs": [],
   "source": [
    "import numpy as np\n",
    "from scipy.stats import chi2, norm\n",
    "import plotly.graph_objs as go\n",
    "import plotly\n",
    "\n",
    "\n",
    "plotly.offline.init_notebook_mode()\n",
    "\n",
    "\n",
    "def st1(samp: np.ndarray):\n",
    "    gamma = 0.95\n",
    "    sq_sum = np.sum(samp ** 2)\n",
    "    left_quantile = chi2.ppf((1 + gamma) / 2, len(samp))\n",
    "    right_quantile = chi2.ppf((1 - gamma) / 2, len(samp))\n",
    "\n",
    "    l = sq_sum / left_quantile\n",
    "    r = sq_sum / right_quantile\n",
    "\n",
    "    return l, r\n",
    "\n",
    "\n",
    "def st2(samp: np.ndarray):\n",
    "    gamma = 0.99\n",
    "    m = np.mean(samp)\n",
    "    n = len(samp)\n",
    "\n",
    "    left_quantile = norm.ppf((3 + gamma) / 4)\n",
    "    right_quantile = norm.ppf((3 - gamma) / 4)\n",
    "\n",
    "    l = n * m ** 2 / left_quantile ** 2\n",
    "    r = n * m ** 2 / right_quantile ** 2\n",
    "\n",
    "    return l, r"
   ]
  },
  {
   "cell_type": "markdown",
   "metadata": {},
   "source": [
    "Посмотрим как меняется интервал в зависимости от размера выборки для первой статтистики."
   ]
  },
  {
   "cell_type": "code",
   "execution_count": null,
   "metadata": {},
   "outputs": [],
   "source": [
    "def gen_sample(n, sigma):\n",
    "    return np.random.normal(0, sigma, n)\n",
    "\n",
    "\n",
    "def test_stat(sigma, st, l, r, step):\n",
    "    l_arr, r_arr, sig, x = [], [], [], []\n",
    "    for i in range(l, r + 1, step):\n",
    "        sample = gen_sample(i, sigma)\n",
    "        sigma_l, sigma_r = st(sample)\n",
    "\n",
    "        x.append(i)\n",
    "        l_arr.append(sigma_l)\n",
    "        r_arr.append(sigma_r)\n",
    "        sig.append(sigma ** 2)\n",
    "    return l_arr, r_arr, sig, x\n",
    "\n",
    "\n",
    "def plot(*data):\n",
    "    traces = []\n",
    "    x = data[-1]\n",
    "    colors = [\n",
    "        {'color': 'rgba(0, 255, 0, 0.8)'},\n",
    "        {'color': 'rgba(255, 0, 0, 0.8)'},\n",
    "        {'color': 'rgba(0, 0, 0, 0.8)'},\n",
    "    ]\n",
    "    names = [\n",
    "        'left',\n",
    "        'right',\n",
    "        f'$\\sigma^2$'\n",
    "    ]\n",
    "    for i in range(len(data) - 1):\n",
    "        traces.append(go.Scatter(\n",
    "            x=x,\n",
    "            y=data[i],\n",
    "            mode='lines+markers',\n",
    "            marker=colors[i],\n",
    "            name=names[i]\n",
    "        ))\n",
    "\n",
    "    layout = go.Layout(\n",
    "        title={\n",
    "            'text': \"Зависимость границ интервала от размера выборки\",\n",
    "            'y': 0.9,\n",
    "            'x': 0.5,\n",
    "            'xanchor': 'center',\n",
    "            'yanchor': 'top'\n",
    "        },\n",
    "        xaxis={\n",
    "            'title': 'n'\n",
    "        },\n",
    "        yaxis={\n",
    "            'title': f'$\\sigma^2$'\n",
    "        }\n",
    "    )\n",
    "    fig = go.Figure(data=traces, layout=layout)\n",
    "    plotly.offline.iplot(fig)\n",
    "\n",
    "sigma = 10\n",
    "data = test_stat(sigma, st1, 50, 10000, 50)\n",
    "plot(*data)"
   ]
  },
  {
   "cell_type": "markdown",
   "metadata": {},
   "source": [
    "На графике видна четкая зависимость размера интервала от размера выборки -- чем больше выборка, тем меньше интервал.\n",
    "\n",
    "Теперь посмотрим на 2 статистику."
   ]
  },
  {
   "cell_type": "code",
   "execution_count": null,
   "metadata": {},
   "outputs": [],
   "source": [
    "data = test_stat(sigma, st2, 50, 10000, 50)\n",
    "plot(*data)"
   ]
  },
  {
   "cell_type": "markdown",
   "metadata": {},
   "source": [
    "Левая граница полностью совпадает с дисперсией, а правая совершенно не зависит от размера. В целом то, что статистика плоха, можно также объяснить тем, что $\\overline X^2$ стремится к 0 по ЗБЧ, поэтому оценивать с помощью этой статистики точно не является лучшим решением."
   ]
  },
  {
   "cell_type": "code",
   "execution_count": null,
   "metadata": {},
   "outputs": [],
   "source": []
  }
 ],
 "metadata": {
  "kernelspec": {
   "display_name": "Python 3",
   "language": "python",
   "name": "python3"
  },
  "language_info": {
   "codemirror_mode": {
    "name": "ipython",
    "version": 3
   },
   "file_extension": ".py",
   "mimetype": "text/x-python",
   "name": "python",
   "nbconvert_exporter": "python",
   "pygments_lexer": "ipython3",
   "version": "3.6.8"
  }
 },
 "nbformat": 4,
 "nbformat_minor": 4
}
